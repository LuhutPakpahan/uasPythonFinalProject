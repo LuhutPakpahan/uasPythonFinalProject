{
  "nbformat": 4,
  "nbformat_minor": 0,
  "metadata": {
    "colab": {
      "name": "Acnescan_v2.ipynb",
      "provenance": [],
      "toc_visible": true
    },
    "kernelspec": {
      "name": "python3",
      "display_name": "Python 3"
    },
    "language_info": {
      "name": "python"
    }
  },
  "cells": [
    {
      "cell_type": "code",
      "metadata": {
        "id": "_rjSQHSHw4D8"
      },
      "source": [
        "import matplotlib.pyplot as plt\n",
        "import numpy as np\n",
        "import os\n",
        "import PIL\n",
        "import tensorflow as tf\n",
        "\n",
        "from tensorflow import keras\n",
        "from tensorflow.keras import layers\n",
        "from tensorflow.keras.models import Sequential"
      ],
      "execution_count": 1,
      "outputs": []
    },
    {
      "cell_type": "code",
      "metadata": {
        "colab": {
          "base_uri": "https://localhost:8080/"
        },
        "id": "P1ofH_XZtbuE",
        "outputId": "d7927967-085a-4b88-fa29-20286cc6382b"
      },
      "source": [
        "from google.colab import drive\n",
        "drive.mount('/content/gdrive')"
      ],
      "execution_count": 2,
      "outputs": [
        {
          "output_type": "stream",
          "text": [
            "Mounted at /content/gdrive\n"
          ],
          "name": "stdout"
        }
      ]
    },
    {
      "cell_type": "code",
      "metadata": {
        "colab": {
          "base_uri": "https://localhost:8080/"
        },
        "id": "lBtxJz_ZtcP7",
        "outputId": "6590ebb3-2fbf-4deb-90ae-5b39de3a70b2"
      },
      "source": [
        "%cd /content/gdrive/Shareddrives/Dataset Machine Learning/Dataset/Acneset2\n",
        "!ls\n"
      ],
      "execution_count": 3,
      "outputs": [
        {
          "output_type": "stream",
          "text": [
            "/content/gdrive/Shareddrives/Dataset Machine Learning/Dataset/Acneset2\n",
            "acnescan.h5  acnescan_v2.h5  my_model.h5  test\ttrain\n"
          ],
          "name": "stdout"
        }
      ]
    },
    {
      "cell_type": "code",
      "metadata": {
        "colab": {
          "base_uri": "https://localhost:8080/"
        },
        "id": "1Wy16-oZte_M",
        "outputId": "77de28b7-3fef-4b99-e1de-d0e93609c825"
      },
      "source": [
        "import os\n",
        "nodules_dir = os.path.join('train/nodules')\n",
        "blackhead_dir = os.path.join('train/blackhead')\n",
        "papula_dir = os.path.join('train/papula')\n",
        "pustula_dir = os.path.join('train/pustula')\n",
        "whitehead_dir = os.path.join('train/whitehead')\n",
        "\n",
        "print('total training Acne nodules images:', len(os.listdir(nodules_dir)))\n",
        "print('total training blackhead images:', len(os.listdir(blackhead_dir)))\n",
        "print('total training papula images:', len(os.listdir(papula_dir)))\n",
        "print('total training pustula images:', len(os.listdir(pustula_dir)))\n",
        "print('total training whitehead images:', len(os.listdir(whitehead_dir)))"
      ],
      "execution_count": 4,
      "outputs": [
        {
          "output_type": "stream",
          "text": [
            "total training Acne nodules images: 71\n",
            "total training blackhead images: 140\n",
            "total training papula images: 70\n",
            "total training pustula images: 139\n",
            "total training whitehead images: 111\n"
          ],
          "name": "stdout"
        }
      ]
    },
    {
      "cell_type": "code",
      "metadata": {
        "id": "iivCzFGptjF6"
      },
      "source": [
        "batch_size = 32\n",
        "img_height = 180\n",
        "img_width = 180\n",
        "TRAINING_DIR = \"train/\"\n",
        "VALIDATION_DIR = \"test/\""
      ],
      "execution_count": 5,
      "outputs": []
    },
    {
      "cell_type": "code",
      "metadata": {
        "colab": {
          "base_uri": "https://localhost:8080/"
        },
        "id": "PhGnxoxLtvSu",
        "outputId": "f9f3b403-c465-425d-be16-b4523d5a219c"
      },
      "source": [
        "train_ds = tf.keras.preprocessing.image_dataset_from_directory(\n",
        "  TRAINING_DIR,\n",
        "  seed=123,\n",
        "  image_size=(img_height, img_width),\n",
        "  batch_size=batch_size)\n",
        "val_ds = tf.keras.preprocessing.image_dataset_from_directory(\n",
        "  VALIDATION_DIR,\n",
        "  seed=123,\n",
        "  image_size=(img_height, img_width),\n",
        "  batch_size=batch_size)"
      ],
      "execution_count": 8,
      "outputs": [
        {
          "output_type": "stream",
          "text": [
            "Found 520 files belonging to 5 classes.\n",
            "Found 267 files belonging to 5 classes.\n"
          ],
          "name": "stdout"
        }
      ]
    },
    {
      "cell_type": "code",
      "metadata": {
        "colab": {
          "base_uri": "https://localhost:8080/"
        },
        "id": "Q1PXu8HHuU6F",
        "outputId": "a821475e-7cf6-4d8d-8f82-f30a629bc776"
      },
      "source": [
        "class_names = train_ds.class_names\n",
        "print(class_names)\n"
      ],
      "execution_count": 9,
      "outputs": [
        {
          "output_type": "stream",
          "text": [
            "['blackhead', 'nodules', 'papula', 'pustula', 'whitehead']\n"
          ],
          "name": "stdout"
        }
      ]
    },
    {
      "cell_type": "code",
      "metadata": {
        "id": "yiQg6qgAzENH"
      },
      "source": [
        "data_augmentation = keras.Sequential(\n",
        "  [\n",
        "    layers.experimental.preprocessing.RandomFlip(\"horizontal\", \n",
        "                                                 input_shape=(img_height, \n",
        "                                                              img_width,\n",
        "                                                              3)),\n",
        "    layers.experimental.preprocessing.RandomRotation(0.1),\n",
        "    layers.experimental.preprocessing.RandomZoom(0.1),\n",
        "  ]\n",
        ")"
      ],
      "execution_count": null,
      "outputs": []
    },
    {
      "cell_type": "code",
      "metadata": {
        "id": "kjv4rf5KvnOh"
      },
      "source": [
        "num_classes = 5\n",
        "\n",
        "model = Sequential([\n",
        "  data_augmentation,\n",
        "  layers.experimental.preprocessing.Rescaling(1./255),\n",
        "  layers.Conv2D(32, 3, padding='same', activation='relu'),\n",
        "  layers.MaxPooling2D(),\n",
        "  layers.Conv2D(64, 3, padding='same', activation='relu'),\n",
        "  layers.MaxPooling2D(),\n",
        "  layers.Conv2D(128, 3, padding='same', activation='relu'),\n",
        "  layers.MaxPooling2D(),\n",
        "  layers.Dropout(0.2),\n",
        "  layers.Flatten(),\n",
        "  layers.Dense(128, activation='relu'),\n",
        "  layers.Dense(num_classes)\n",
        "])"
      ],
      "execution_count": null,
      "outputs": []
    },
    {
      "cell_type": "code",
      "metadata": {
        "colab": {
          "base_uri": "https://localhost:8080/"
        },
        "id": "yqmU0Z53wbwr",
        "outputId": "a166db6a-c382-4f7a-91c4-5acfdd10c6a0"
      },
      "source": [
        "model.compile(optimizer='adam',\n",
        "              loss=tf.keras.losses.SparseCategoricalCrossentropy(from_logits=True),\n",
        "              metrics=['accuracy'])\n",
        "epochs=100\n",
        "history = model.fit(\n",
        "  train_ds,\n",
        "  validation_data=val_ds,\n",
        "  epochs=epochs\n",
        ")"
      ],
      "execution_count": null,
      "outputs": [
        {
          "output_type": "stream",
          "text": [
            "Epoch 1/100\n",
            "17/17 [==============================] - 40s 2s/step - loss: 2.0773 - accuracy: 0.2231 - val_loss: 1.5994 - val_accuracy: 0.2135\n",
            "Epoch 2/100\n",
            "17/17 [==============================] - 38s 2s/step - loss: 1.5831 - accuracy: 0.2423 - val_loss: 1.6275 - val_accuracy: 0.2397\n",
            "Epoch 3/100\n",
            "17/17 [==============================] - 39s 2s/step - loss: 1.5714 - accuracy: 0.2635 - val_loss: 1.5714 - val_accuracy: 0.2697\n",
            "Epoch 4/100\n",
            "17/17 [==============================] - 39s 2s/step - loss: 1.5432 - accuracy: 0.2923 - val_loss: 1.5636 - val_accuracy: 0.2772\n",
            "Epoch 5/100\n",
            "17/17 [==============================] - 39s 2s/step - loss: 1.5336 - accuracy: 0.2923 - val_loss: 1.5624 - val_accuracy: 0.2734\n",
            "Epoch 6/100\n",
            "17/17 [==============================] - 39s 2s/step - loss: 1.5322 - accuracy: 0.2865 - val_loss: 1.5588 - val_accuracy: 0.2622\n",
            "Epoch 7/100\n",
            "17/17 [==============================] - 39s 2s/step - loss: 1.5279 - accuracy: 0.3000 - val_loss: 1.5661 - val_accuracy: 0.2622\n",
            "Epoch 8/100\n",
            "17/17 [==============================] - 38s 2s/step - loss: 1.5130 - accuracy: 0.3096 - val_loss: 1.5820 - val_accuracy: 0.2697\n",
            "Epoch 9/100\n",
            "17/17 [==============================] - 38s 2s/step - loss: 1.5249 - accuracy: 0.3000 - val_loss: 1.5457 - val_accuracy: 0.2584\n",
            "Epoch 10/100\n",
            "17/17 [==============================] - 38s 2s/step - loss: 1.5239 - accuracy: 0.2615 - val_loss: 1.5653 - val_accuracy: 0.2360\n",
            "Epoch 11/100\n",
            "17/17 [==============================] - 38s 2s/step - loss: 1.5009 - accuracy: 0.2865 - val_loss: 1.5540 - val_accuracy: 0.2772\n",
            "Epoch 12/100\n",
            "17/17 [==============================] - 38s 2s/step - loss: 1.5100 - accuracy: 0.3000 - val_loss: 1.5383 - val_accuracy: 0.2921\n",
            "Epoch 13/100\n",
            "17/17 [==============================] - 38s 2s/step - loss: 1.5084 - accuracy: 0.3000 - val_loss: 1.5583 - val_accuracy: 0.2697\n",
            "Epoch 14/100\n",
            "17/17 [==============================] - 38s 2s/step - loss: 1.4970 - accuracy: 0.3077 - val_loss: 1.5552 - val_accuracy: 0.2622\n",
            "Epoch 15/100\n",
            "17/17 [==============================] - 38s 2s/step - loss: 1.4949 - accuracy: 0.3000 - val_loss: 1.5525 - val_accuracy: 0.2809\n",
            "Epoch 16/100\n",
            "17/17 [==============================] - 38s 2s/step - loss: 1.4995 - accuracy: 0.2923 - val_loss: 1.5412 - val_accuracy: 0.2846\n",
            "Epoch 17/100\n",
            "17/17 [==============================] - 38s 2s/step - loss: 1.5008 - accuracy: 0.3058 - val_loss: 1.5267 - val_accuracy: 0.3034\n",
            "Epoch 18/100\n",
            "17/17 [==============================] - 38s 2s/step - loss: 1.4867 - accuracy: 0.3096 - val_loss: 1.5639 - val_accuracy: 0.2697\n",
            "Epoch 19/100\n",
            "17/17 [==============================] - 38s 2s/step - loss: 1.4973 - accuracy: 0.2981 - val_loss: 1.5032 - val_accuracy: 0.3221\n",
            "Epoch 20/100\n",
            "17/17 [==============================] - 38s 2s/step - loss: 1.4688 - accuracy: 0.3404 - val_loss: 1.5143 - val_accuracy: 0.3184\n",
            "Epoch 21/100\n",
            "17/17 [==============================] - 38s 2s/step - loss: 1.4916 - accuracy: 0.3365 - val_loss: 1.5007 - val_accuracy: 0.3521\n",
            "Epoch 22/100\n",
            "17/17 [==============================] - 38s 2s/step - loss: 1.4635 - accuracy: 0.3288 - val_loss: 1.4795 - val_accuracy: 0.3296\n",
            "Epoch 23/100\n",
            "17/17 [==============================] - 38s 2s/step - loss: 1.4748 - accuracy: 0.3192 - val_loss: 1.4933 - val_accuracy: 0.3296\n",
            "Epoch 24/100\n",
            "17/17 [==============================] - 38s 2s/step - loss: 1.4562 - accuracy: 0.3385 - val_loss: 1.4844 - val_accuracy: 0.3446\n",
            "Epoch 25/100\n",
            "17/17 [==============================] - 38s 2s/step - loss: 1.4172 - accuracy: 0.3654 - val_loss: 1.3765 - val_accuracy: 0.4120\n",
            "Epoch 26/100\n",
            "17/17 [==============================] - 38s 2s/step - loss: 1.4074 - accuracy: 0.3981 - val_loss: 1.3952 - val_accuracy: 0.4082\n",
            "Epoch 27/100\n",
            "17/17 [==============================] - 38s 2s/step - loss: 1.4093 - accuracy: 0.4000 - val_loss: 1.3641 - val_accuracy: 0.4307\n",
            "Epoch 28/100\n",
            "17/17 [==============================] - 38s 2s/step - loss: 1.3764 - accuracy: 0.4115 - val_loss: 1.3003 - val_accuracy: 0.5056\n",
            "Epoch 29/100\n",
            "17/17 [==============================] - 38s 2s/step - loss: 1.3270 - accuracy: 0.4462 - val_loss: 1.2847 - val_accuracy: 0.4869\n",
            "Epoch 30/100\n",
            "17/17 [==============================] - 38s 2s/step - loss: 1.2835 - accuracy: 0.4615 - val_loss: 1.2552 - val_accuracy: 0.4906\n",
            "Epoch 31/100\n",
            "17/17 [==============================] - 38s 2s/step - loss: 1.2766 - accuracy: 0.4731 - val_loss: 1.2402 - val_accuracy: 0.5056\n",
            "Epoch 32/100\n",
            "17/17 [==============================] - 38s 2s/step - loss: 1.3177 - accuracy: 0.4212 - val_loss: 1.2486 - val_accuracy: 0.4944\n",
            "Epoch 33/100\n",
            "17/17 [==============================] - 39s 2s/step - loss: 1.3301 - accuracy: 0.4096 - val_loss: 1.3346 - val_accuracy: 0.4869\n",
            "Epoch 34/100\n",
            "17/17 [==============================] - 39s 2s/step - loss: 1.3082 - accuracy: 0.4500 - val_loss: 1.3143 - val_accuracy: 0.4345\n",
            "Epoch 35/100\n",
            "17/17 [==============================] - 39s 2s/step - loss: 1.2844 - accuracy: 0.4538 - val_loss: 1.2083 - val_accuracy: 0.5243\n",
            "Epoch 36/100\n",
            "17/17 [==============================] - 38s 2s/step - loss: 1.2385 - accuracy: 0.4615 - val_loss: 1.1911 - val_accuracy: 0.5356\n",
            "Epoch 37/100\n",
            "17/17 [==============================] - 38s 2s/step - loss: 1.1995 - accuracy: 0.4904 - val_loss: 1.1492 - val_accuracy: 0.5468\n",
            "Epoch 38/100\n",
            "17/17 [==============================] - 38s 2s/step - loss: 1.2049 - accuracy: 0.4769 - val_loss: 1.2033 - val_accuracy: 0.5243\n",
            "Epoch 39/100\n",
            "17/17 [==============================] - 38s 2s/step - loss: 1.2480 - accuracy: 0.4885 - val_loss: 1.1689 - val_accuracy: 0.5393\n",
            "Epoch 40/100\n",
            "17/17 [==============================] - 38s 2s/step - loss: 1.1536 - accuracy: 0.5346 - val_loss: 1.0820 - val_accuracy: 0.5468\n",
            "Epoch 41/100\n",
            "17/17 [==============================] - 38s 2s/step - loss: 1.1373 - accuracy: 0.5308 - val_loss: 1.0810 - val_accuracy: 0.5618\n",
            "Epoch 42/100\n",
            "17/17 [==============================] - 38s 2s/step - loss: 1.1494 - accuracy: 0.5038 - val_loss: 1.0341 - val_accuracy: 0.5880\n",
            "Epoch 43/100\n",
            "17/17 [==============================] - 38s 2s/step - loss: 1.1463 - accuracy: 0.5019 - val_loss: 1.1258 - val_accuracy: 0.5318\n",
            "Epoch 44/100\n",
            "17/17 [==============================] - 38s 2s/step - loss: 1.0826 - accuracy: 0.5673 - val_loss: 1.0678 - val_accuracy: 0.5955\n",
            "Epoch 45/100\n",
            "17/17 [==============================] - 38s 2s/step - loss: 1.0775 - accuracy: 0.5481 - val_loss: 0.9629 - val_accuracy: 0.6292\n",
            "Epoch 46/100\n",
            "17/17 [==============================] - 38s 2s/step - loss: 1.0319 - accuracy: 0.5577 - val_loss: 0.9518 - val_accuracy: 0.6330\n",
            "Epoch 47/100\n",
            "17/17 [==============================] - 38s 2s/step - loss: 0.9966 - accuracy: 0.5827 - val_loss: 0.9686 - val_accuracy: 0.6330\n",
            "Epoch 48/100\n",
            "17/17 [==============================] - 38s 2s/step - loss: 0.9703 - accuracy: 0.5923 - val_loss: 0.9052 - val_accuracy: 0.6592\n",
            "Epoch 49/100\n",
            "17/17 [==============================] - 38s 2s/step - loss: 0.9376 - accuracy: 0.6173 - val_loss: 0.8482 - val_accuracy: 0.6779\n",
            "Epoch 50/100\n",
            "17/17 [==============================] - 38s 2s/step - loss: 0.8863 - accuracy: 0.6404 - val_loss: 0.8214 - val_accuracy: 0.6554\n",
            "Epoch 51/100\n",
            "17/17 [==============================] - 38s 2s/step - loss: 0.8978 - accuracy: 0.6327 - val_loss: 0.7985 - val_accuracy: 0.6592\n",
            "Epoch 52/100\n",
            "17/17 [==============================] - 38s 2s/step - loss: 0.8989 - accuracy: 0.6212 - val_loss: 0.7107 - val_accuracy: 0.7528\n",
            "Epoch 53/100\n",
            "17/17 [==============================] - 38s 2s/step - loss: 0.9145 - accuracy: 0.6442 - val_loss: 0.8173 - val_accuracy: 0.6554\n",
            "Epoch 54/100\n",
            "17/17 [==============================] - 38s 2s/step - loss: 0.8968 - accuracy: 0.6462 - val_loss: 0.6845 - val_accuracy: 0.7491\n",
            "Epoch 55/100\n",
            "17/17 [==============================] - 38s 2s/step - loss: 0.8462 - accuracy: 0.6481 - val_loss: 0.6729 - val_accuracy: 0.7416\n",
            "Epoch 56/100\n",
            "17/17 [==============================] - 38s 2s/step - loss: 0.8830 - accuracy: 0.6673 - val_loss: 0.7522 - val_accuracy: 0.7116\n",
            "Epoch 57/100\n",
            "17/17 [==============================] - 38s 2s/step - loss: 0.8627 - accuracy: 0.6904 - val_loss: 0.7531 - val_accuracy: 0.7079\n",
            "Epoch 58/100\n",
            "17/17 [==============================] - 38s 2s/step - loss: 0.8255 - accuracy: 0.6712 - val_loss: 0.7632 - val_accuracy: 0.6891\n",
            "Epoch 59/100\n",
            "17/17 [==============================] - 38s 2s/step - loss: 0.8419 - accuracy: 0.6577 - val_loss: 0.7229 - val_accuracy: 0.7378\n",
            "Epoch 60/100\n",
            "17/17 [==============================] - 38s 2s/step - loss: 0.7295 - accuracy: 0.7231 - val_loss: 0.6006 - val_accuracy: 0.7341\n",
            "Epoch 61/100\n",
            "17/17 [==============================] - 38s 2s/step - loss: 0.8794 - accuracy: 0.6327 - val_loss: 0.7285 - val_accuracy: 0.7191\n",
            "Epoch 62/100\n",
            "17/17 [==============================] - 38s 2s/step - loss: 0.8103 - accuracy: 0.6731 - val_loss: 0.5980 - val_accuracy: 0.7828\n",
            "Epoch 63/100\n",
            "17/17 [==============================] - 38s 2s/step - loss: 0.7994 - accuracy: 0.6865 - val_loss: 0.5904 - val_accuracy: 0.7903\n",
            "Epoch 64/100\n",
            "17/17 [==============================] - 38s 2s/step - loss: 0.7057 - accuracy: 0.7269 - val_loss: 0.5981 - val_accuracy: 0.7790\n",
            "Epoch 65/100\n",
            "17/17 [==============================] - 38s 2s/step - loss: 0.6854 - accuracy: 0.7269 - val_loss: 0.8424 - val_accuracy: 0.7004\n",
            "Epoch 66/100\n",
            "17/17 [==============================] - 38s 2s/step - loss: 0.7011 - accuracy: 0.7269 - val_loss: 0.6587 - val_accuracy: 0.7378\n",
            "Epoch 67/100\n",
            "17/17 [==============================] - 38s 2s/step - loss: 0.7152 - accuracy: 0.6981 - val_loss: 0.4705 - val_accuracy: 0.8277\n",
            "Epoch 68/100\n",
            "17/17 [==============================] - 38s 2s/step - loss: 0.6109 - accuracy: 0.7654 - val_loss: 0.4711 - val_accuracy: 0.8277\n",
            "Epoch 69/100\n",
            "17/17 [==============================] - 38s 2s/step - loss: 0.5691 - accuracy: 0.7904 - val_loss: 0.6347 - val_accuracy: 0.8015\n",
            "Epoch 70/100\n",
            "17/17 [==============================] - 38s 2s/step - loss: 0.5639 - accuracy: 0.7596 - val_loss: 0.4526 - val_accuracy: 0.8390\n",
            "Epoch 71/100\n",
            "17/17 [==============================] - 38s 2s/step - loss: 0.5424 - accuracy: 0.7788 - val_loss: 0.3789 - val_accuracy: 0.8689\n",
            "Epoch 72/100\n",
            "17/17 [==============================] - 38s 2s/step - loss: 0.5213 - accuracy: 0.7885 - val_loss: 0.4922 - val_accuracy: 0.8127\n",
            "Epoch 73/100\n",
            "17/17 [==============================] - 38s 2s/step - loss: 0.5509 - accuracy: 0.7750 - val_loss: 0.7195 - val_accuracy: 0.7453\n",
            "Epoch 74/100\n",
            "17/17 [==============================] - 38s 2s/step - loss: 0.5278 - accuracy: 0.7788 - val_loss: 0.3819 - val_accuracy: 0.8839\n",
            "Epoch 75/100\n",
            "17/17 [==============================] - 39s 2s/step - loss: 0.4996 - accuracy: 0.8019 - val_loss: 0.4481 - val_accuracy: 0.8502\n",
            "Epoch 76/100\n",
            "17/17 [==============================] - 38s 2s/step - loss: 0.5299 - accuracy: 0.7827 - val_loss: 0.4295 - val_accuracy: 0.8614\n",
            "Epoch 77/100\n",
            "17/17 [==============================] - 38s 2s/step - loss: 0.4318 - accuracy: 0.8288 - val_loss: 0.2976 - val_accuracy: 0.9101\n",
            "Epoch 78/100\n",
            "17/17 [==============================] - 38s 2s/step - loss: 0.4779 - accuracy: 0.7962 - val_loss: 0.4625 - val_accuracy: 0.8689\n",
            "Epoch 79/100\n",
            "17/17 [==============================] - 38s 2s/step - loss: 0.5099 - accuracy: 0.8096 - val_loss: 0.3494 - val_accuracy: 0.8801\n",
            "Epoch 80/100\n",
            "17/17 [==============================] - 38s 2s/step - loss: 0.4890 - accuracy: 0.8019 - val_loss: 0.3738 - val_accuracy: 0.8839\n",
            "Epoch 81/100\n",
            "17/17 [==============================] - 38s 2s/step - loss: 0.4189 - accuracy: 0.8423 - val_loss: 0.3541 - val_accuracy: 0.8876\n",
            "Epoch 82/100\n",
            "17/17 [==============================] - 38s 2s/step - loss: 0.3893 - accuracy: 0.8481 - val_loss: 0.2795 - val_accuracy: 0.9139\n",
            "Epoch 83/100\n",
            "17/17 [==============================] - 38s 2s/step - loss: 0.3799 - accuracy: 0.8654 - val_loss: 0.4251 - val_accuracy: 0.8839\n",
            "Epoch 84/100\n",
            "17/17 [==============================] - 38s 2s/step - loss: 0.3524 - accuracy: 0.8750 - val_loss: 0.1824 - val_accuracy: 0.9476\n",
            "Epoch 85/100\n",
            "17/17 [==============================] - 38s 2s/step - loss: 0.3764 - accuracy: 0.8673 - val_loss: 0.2213 - val_accuracy: 0.9288\n",
            "Epoch 86/100\n",
            "17/17 [==============================] - 38s 2s/step - loss: 0.3625 - accuracy: 0.8481 - val_loss: 0.4710 - val_accuracy: 0.8727\n",
            "Epoch 87/100\n",
            "17/17 [==============================] - 38s 2s/step - loss: 0.4202 - accuracy: 0.8385 - val_loss: 0.3460 - val_accuracy: 0.8914\n",
            "Epoch 88/100\n",
            "17/17 [==============================] - 38s 2s/step - loss: 0.4970 - accuracy: 0.8135 - val_loss: 0.3104 - val_accuracy: 0.8914\n",
            "Epoch 89/100\n",
            "17/17 [==============================] - 38s 2s/step - loss: 0.3962 - accuracy: 0.8654 - val_loss: 0.2671 - val_accuracy: 0.9026\n",
            "Epoch 90/100\n",
            "17/17 [==============================] - 38s 2s/step - loss: 0.3392 - accuracy: 0.8692 - val_loss: 0.1778 - val_accuracy: 0.9476\n",
            "Epoch 91/100\n",
            "17/17 [==============================] - 38s 2s/step - loss: 0.3339 - accuracy: 0.8750 - val_loss: 0.2593 - val_accuracy: 0.9101\n",
            "Epoch 92/100\n",
            "17/17 [==============================] - 38s 2s/step - loss: 0.3883 - accuracy: 0.8538 - val_loss: 0.2151 - val_accuracy: 0.9213\n",
            "Epoch 93/100\n",
            "17/17 [==============================] - 38s 2s/step - loss: 0.3261 - accuracy: 0.8827 - val_loss: 0.2012 - val_accuracy: 0.9438\n",
            "Epoch 94/100\n",
            "17/17 [==============================] - 38s 2s/step - loss: 0.3071 - accuracy: 0.8788 - val_loss: 0.1838 - val_accuracy: 0.9438\n",
            "Epoch 95/100\n",
            "17/17 [==============================] - 38s 2s/step - loss: 0.2589 - accuracy: 0.8981 - val_loss: 0.1877 - val_accuracy: 0.9288\n",
            "Epoch 96/100\n",
            "17/17 [==============================] - 38s 2s/step - loss: 0.3187 - accuracy: 0.8750 - val_loss: 0.1705 - val_accuracy: 0.9401\n",
            "Epoch 97/100\n",
            "17/17 [==============================] - 38s 2s/step - loss: 0.2733 - accuracy: 0.8942 - val_loss: 0.2840 - val_accuracy: 0.9101\n",
            "Epoch 98/100\n",
            "17/17 [==============================] - 38s 2s/step - loss: 0.3185 - accuracy: 0.9019 - val_loss: 0.1345 - val_accuracy: 0.9625\n",
            "Epoch 99/100\n",
            "17/17 [==============================] - 38s 2s/step - loss: 0.2409 - accuracy: 0.9269 - val_loss: 0.1881 - val_accuracy: 0.9401\n",
            "Epoch 100/100\n",
            "17/17 [==============================] - 38s 2s/step - loss: 0.2438 - accuracy: 0.9000 - val_loss: 0.2526 - val_accuracy: 0.9251\n"
          ],
          "name": "stdout"
        }
      ]
    },
    {
      "cell_type": "code",
      "metadata": {
        "colab": {
          "base_uri": "https://localhost:8080/",
          "height": 499
        },
        "id": "B18Qn1hKxGab",
        "outputId": "9dbd87fc-a238-46e2-9b0c-96314278cb4b"
      },
      "source": [
        "acc = history.history['accuracy']\n",
        "val_acc = history.history['val_accuracy']\n",
        "\n",
        "loss = history.history['loss']\n",
        "val_loss = history.history['val_loss']\n",
        "\n",
        "epochs_range = range(epochs)\n",
        "\n",
        "plt.figure(figsize=(8, 8))\n",
        "plt.subplot(1, 2, 1)\n",
        "plt.plot(epochs_range, acc, label='Training Accuracy')\n",
        "plt.plot(epochs_range, val_acc, label='Validation Accuracy')\n",
        "plt.legend(loc='lower right')\n",
        "plt.title('Training and Validation Accuracy')\n",
        "\n",
        "plt.subplot(1, 2, 2)\n",
        "plt.plot(epochs_range, loss, label='Training Loss')\n",
        "plt.plot(epochs_range, val_loss, label='Validation Loss')\n",
        "plt.legend(loc='upper right')\n",
        "plt.title('Training and Validation Loss')\n",
        "plt.show()"
      ],
      "execution_count": null,
      "outputs": [
        {
          "output_type": "display_data",
          "data": {
            "image/png": "[encoded data removed]",
            "text/plain": [
              "<Figure size 576x576 with 2 Axes>"
            ]
          },
          "metadata": {
            "tags": [],
            "needs_background": "light"
          }
        }
      ]
    },
    {
      "cell_type": "code",
      "metadata": {
        "id": "7QTIKE387p1V"
      },
      "source": [
        "# Save the entire model to a HDF5 file.\n",
        "# The '.h5' extension indicates that the model should be saved to HDF5.\n",
        "\n",
        "model.save('acnescan_v2.h5')"
      ],
      "execution_count": null,
      "outputs": []
    },
    {
      "cell_type": "code",
      "metadata": {
        "id": "nzRQIvVs7wrl"
      },
      "source": [
        "from keras.models import load_model\n",
        "\n",
        "# returns a compiled model\n",
        "# identical to the previous one\n",
        "new_model= tf.keras.models.load_model(filepath=\"acnescan_v2.h5\")\n"
      ],
      "execution_count": 16,
      "outputs": []
    },
    {
      "cell_type": "code",
      "metadata": {
        "colab": {
          "resources": {
            "http://localhost:8080/nbextensions/google.colab/files.js": {
              "data": "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",
              "ok": true,
              "headers": [
                [
                  "content-type",
                  "application/javascript"
                ]
              ],
              "status": 200,
              "status_text": ""
            }
          },
          "base_uri": "https://localhost:8080/",
          "height": 88
        },
        "id": "gQs8LdNriePj",
        "outputId": "c980d6c6-a70f-4300-e489-cba09362c6be"
      },
      "source": [
        "import numpy as np\n",
        "from google.colab import files\n",
        "from keras.preprocessing import image\n",
        "\n",
        "uploaded = files.upload()\n",
        "\n",
        "for fn in uploaded.keys():\n",
        " \n",
        "  # predicting images\n",
        "  path = fn\n",
        "  img = keras.preprocessing.image.load_img(\n",
        "      path, target_size=(img_height, img_width)\n",
        "  )\n",
        "  img_array = keras.preprocessing.image.img_to_array(img)\n",
        "  img_array = tf.expand_dims(img_array, 0) # Create a batch\n",
        "\n",
        "  predictions = model.predict(img_array)\n",
        "  score = tf.nn.softmax(predictions[0])\n",
        "\n",
        "  print(\n",
        "      \"This image most likely belongs to {} with a {:.2f} percent confidence.\"\n",
        "      .format(class_names[np.argmax(score)], 100 * np.max(score))\n",
        "  )\n",
        " "
      ],
      "execution_count": 19,
      "outputs": [
        {
          "output_type": "display_data",
          "data": {
            "text/html": [
              "\n",
              "     <input type=\"file\" id=\"files-f5709679-7560-4b99-89bc-b39b7b96a56f\" name=\"files[]\" multiple disabled\n",
              "        style=\"border:none\" />\n",
              "     <output id=\"result-f5709679-7560-4b99-89bc-b39b7b96a56f\">\n",
              "      Upload widget is only available when the cell has been executed in the\n",
              "      current browser session. Please rerun this cell to enable.\n",
              "      </output>\n",
              "      <script src=\"/nbextensions/google.colab/files.js\"></script> "
            ],
            "text/plain": [
              "<IPython.core.display.HTML object>"
            ]
          },
          "metadata": {
            "tags": []
          }
        },
        {
          "output_type": "stream",
          "text": [
            "Saving Blackhead.jpg to Blackhead.jpg\n",
            "This image most likely belongs to blackhead with a 81.85 percent confidence.\n"
          ],
          "name": "stdout"
        }
      ]
    },
    {
      "cell_type": "code",
      "metadata": {
        "colab": {
          "base_uri": "https://localhost:8080/"
        },
        "id": "9xfkFIjOmCwA",
        "outputId": "c273c37f-aedc-475d-e9e0-d45f1d5d5420"
      },
      "source": [
        "# Convert the model.\n",
        "converter = tf.lite.TFLiteConverter.from_keras_model(new_model)\n",
        "tflite_model = converter.convert()\n",
        "\n",
        "# Save the TF Lite model.\n",
        "with tf.io.gfile.GFile('acnescan_V2.tflite', 'wb') as f:\n",
        "  f.write(tflite_model)"
      ],
      "execution_count": 18,
      "outputs": [
        {
          "output_type": "stream",
          "text": [
            "INFO:tensorflow:Assets written to: /tmp/tmp8l9ocdpg/assets\n"
          ],
          "name": "stdout"
        }
      ]
    },
    {
      "cell_type": "markdown",
      "metadata": {
        "id": "2AUVmf5jwbpZ"
      },
      "source": [
        ""
      ]
    },
    {
      "cell_type": "markdown",
      "metadata": {
        "id": "5ilQEdkstYx1"
      },
      "source": [
        ""
      ]
    }
  ]
}